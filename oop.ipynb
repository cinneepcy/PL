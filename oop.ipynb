class Animal:
    def __init__(self):
        print("Create Animal")
    def __del__(self):
        print("Delete Animal")
    def sound(self):
        print("Animal makes a sound")
        
class Dog(Animal):
    def __init__(self):
        super().__init__()
        print("Create Dog")
    def __del__(self):
        print("Delete Dog")
    def sound(self):
        print("Dog barks")
    
class Cat(Animal):
    def __init__(self):
        super().__init__()
        print("Create Cat")
    def __del__(self):
        print("Delete Cat")
    def sound(self):
        print("Cat meows")
        
a = Animal()
a.sound()

d = Dog()
d.sound()

c = Cat()
c.sound(
